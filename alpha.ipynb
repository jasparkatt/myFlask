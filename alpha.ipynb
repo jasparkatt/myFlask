{
 "cells": [
  {
   "cell_type": "code",
   "execution_count": null,
   "metadata": {},
   "outputs": [],
   "source": [
    "# this is using the alpha_vantage wrapper python package...not quite the same as using the api directly as code below\n",
    "from alpha_vantage.timeseries import TimeSeries\n",
    "from alpha_vantage.techindicators import TechIndicators\n",
    "from matplotlib.pyplot import figure\n",
    "import matplotlib.pyplot as plt\n",
    "import matplotlib\n",
    "import os\n",
    "# Make plots bigger\n",
    "matplotlib.rcParams['figure.figsize'] = (20.0, 10.0)\n",
    "from pprint import pprint"
   ]
  },
  {
   "cell_type": "code",
   "execution_count": null,
   "metadata": {},
   "outputs": [],
   "source": [
    "key = 'LAJBI8EN52GC18OY'\n",
    "ts = TimeSeries(key, output_format='pandas')\n",
    "ti = TechIndicators(key)\n",
    "\n",
    "pprint(ts)\n",
    "pprint(ti)\n"
   ]
  },
  {
   "cell_type": "code",
   "execution_count": null,
   "metadata": {},
   "outputs": [],
   "source": [
    "aapl_data, aapl_meta_data = ts.get_daily(symbol='GME')\n",
    "#aapl_sma, aapl_meta_sma = ti.get_sma(symbol='GME')\n",
    "print(aapl_data)\n",
    "print('      ---break---      ')\n",
    "print(aapl_meta_data)\n",
    "\n",
    "#pprint(aapl_sma)\n",
    "#print(aapl_meta_sma)\n"
   ]
  },
  {
   "cell_type": "code",
   "execution_count": null,
   "metadata": {},
   "outputs": [],
   "source": [
    "aapl_data.info\n",
    "aapl_data.index\n",
    "aapl_data.loc[:,'4. close']\n"
   ]
  },
  {
   "cell_type": "code",
   "execution_count": null,
   "metadata": {},
   "outputs": [],
   "source": [
    "figure(num=None, figsize=(15, 6), dpi=80, facecolor='w', edgecolor='k')\n",
    "aapl_data['4. close'].plot()\n",
    "plt.tight_layout()\n",
    "plt.grid()\n",
    "plt.show()"
   ]
  },
  {
   "cell_type": "code",
   "execution_count": null,
   "metadata": {},
   "outputs": [],
   "source": [
    "# this is using the actual api from alphavantage to get the data from the url api\n",
    "import requests\n",
    "import json\n",
    "\n",
    "key = 'LAJBI8EN52GC18OY'\n",
    "ticker = 'GME'\n",
    "url = 'https://www.alphavantage.co/query?function=TIME_SERIES_DAILY_ADJUSTED&symbol={}&apikey={}'.format(ticker, key)\n",
    "response = requests.get(url)\n",
    "pprint(response.json())"
   ]
  },
  {
   "cell_type": "code",
   "execution_count": null,
   "metadata": {},
   "outputs": [],
   "source": [
    "# messing around with loops to get multi datapoints using alpha_vantage wrapper\n",
    "from alpha_vantage.timeseries import TimeSeries\n",
    "key = 'LAJBI8EN52GC18OY'\n",
    "ts = TimeSeries(key, output_format='pandas')\n",
    "symbols = ['AAPL', 'GOOG', 'TSLA', 'MSFT', 'GME']\n",
    "for symbol in symbols:\n",
    "    data = ts.get_daily(symbol)\n",
    "    pprint(data)\n",
    "    "
   ]
  },
  {
   "cell_type": "code",
   "execution_count": null,
   "metadata": {},
   "outputs": [],
   "source": [
    "from alpha_vantage.sectorperformance import SectorPerformances\n",
    "sp = SectorPerformances(key='LAJBI8EN52GC18OY', output_format='pandas')\n",
    "data, meta_data = sp.get_sector()\n",
    "data.describe()"
   ]
  },
  {
   "cell_type": "code",
   "execution_count": null,
   "metadata": {},
   "outputs": [],
   "source": [
    "data['Rank A: Real-Time Performance'].plot(kind='bar')\n",
    "plt.title('Real Time Performance (%) per Sector')\n",
    "plt.tight_layout()\n",
    "plt.grid()\n",
    "plt.show()"
   ]
  },
  {
   "cell_type": "code",
   "execution_count": null,
   "metadata": {},
   "outputs": [],
   "source": []
  }
 ],
 "metadata": {
  "anaconda-cloud": {},
  "kernelspec": {
   "display_name": "Python 3",
   "language": "python",
   "name": "python3"
  },
  "language_info": {
   "codemirror_mode": {
    "name": "ipython",
    "version": 3
   },
   "file_extension": ".py",
   "mimetype": "text/x-python",
   "name": "python",
   "nbconvert_exporter": "python",
   "pygments_lexer": "ipython3",
   "version": "3.7.8"
  }
 },
 "nbformat": 4,
 "nbformat_minor": 4
}
