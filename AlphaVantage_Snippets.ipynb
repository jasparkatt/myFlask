{
 "cells": [
  {
   "cell_type": "code",
   "execution_count": null,
   "metadata": {},
   "outputs": [],
   "source": [
    "# imports\n",
    "import requests\n",
    "import json\n",
    "from pprint import pprint\n",
    "import pandas as pd\n",
    "\n",
    "# juypter datatables package testing below....import and initiate it. dataframes should display using datatables now.\n",
    "from jupyter_datatables import init_datatables_mode\n",
    "init_datatables_mode()# enables datatable display of the by using (df) in cell NOT print(df)\n",
    "\n",
    "# To disable DataTable and revert to normal pandas df display remove line comment below and line commnent code above\n",
    "# from jupyter_datatables import disable_datatables_mode "
   ]
  },
  {
   "cell_type": "code",
   "execution_count": null,
   "metadata": {},
   "outputs": [],
   "source": [
    "api_key = 'LAJBI8EN52GC18OY'\n"
   ]
  },
  {
   "cell_type": "code",
   "execution_count": null,
   "metadata": {},
   "outputs": [],
   "source": [
    "# this is a better way...can build query param strings using 'user input' e.g input() to get a particular symbol\n",
    "\n",
    "base_url = 'https://www.alphavantage.co/query?'\n",
    "params = {'function': 'TIME_SERIES_DAILY_ADJUSTED',\n",
    "\t\t 'symbol': input(),\n",
    "\t\t 'apikey': api_key}\n",
    "\n",
    "response = requests.get(base_url, params=params)\n",
    "response_dict = response.json()\n",
    "_, header = response.json()"
   ]
  },
  {
   "cell_type": "code",
   "execution_count": null,
   "metadata": {},
   "outputs": [],
   "source": [
    "#Convert to pandas dataframe\n",
    "df = pd.DataFrame.from_dict(response_dict[header], orient='index')"
   ]
  },
  {
   "cell_type": "code",
   "execution_count": null,
   "metadata": {},
   "outputs": [],
   "source": [
    "#Clean up column names\n",
    "df_cols = [i.split(' ')[1] for i in df.columns]\n",
    "df.columns = df_cols"
   ]
  },
  {
   "cell_type": "code",
   "execution_count": null,
   "metadata": {},
   "outputs": [],
   "source": [
    "df.set_index(df.index, inplace=True) #Time-series index "
   ]
  },
  {
   "cell_type": "code",
   "execution_count": null,
   "metadata": {
    "require": [
     "base/js/events",
     "datatables.net",
     "d3",
     "chartjs",
     "dt-config",
     "dt-components",
     "dt-graph-objects",
     "dt-toolbar",
     "dt-tooltips",
     "jupyter-datatables"
    ]
   },
   "outputs": [],
   "source": [
    "print(df)"
   ]
  },
  {
   "cell_type": "code",
   "execution_count": null,
   "metadata": {
    "require": [
     "base/js/events",
     "datatables.net",
     "d3",
     "chartjs",
     "dt-config",
     "dt-components",
     "dt-graph-objects",
     "dt-toolbar",
     "dt-tooltips",
     "jupyter-datatables"
    ]
   },
   "outputs": [],
   "source": [
    "(df)"
   ]
  },
  {
   "cell_type": "code",
   "execution_count": null,
   "metadata": {},
   "outputs": [],
   "source": [
    "# convert all columns of DataFrame to float64 to make use of DataTables charts functionality.\n",
    "# in the above table, note how all the columns are of the type \"object\" as the dataframe cols were strings, not true numbers\n",
    "# this below converts those cols to numberic all at once.\n",
    "df = df.apply(pd.to_numeric)"
   ]
  },
  {
   "cell_type": "code",
   "execution_count": null,
   "metadata": {},
   "outputs": [],
   "source": [
    "print(df)"
   ]
  },
  {
   "cell_type": "code",
   "execution_count": null,
   "metadata": {
    "require": [
     "base/js/events",
     "datatables.net",
     "d3",
     "chartjs",
     "dt-config",
     "dt-components",
     "dt-graph-objects",
     "dt-toolbar",
     "dt-tooltips",
     "jupyter-datatables"
    ]
   },
   "outputs": [],
   "source": [
    "(df)"
   ]
  },
  {
   "cell_type": "code",
   "execution_count": 20,
   "metadata": {
    "require": [
     "base/js/events",
     "datatables.net",
     "d3",
     "chartjs",
     "dt-config",
     "dt-components",
     "dt-graph-objects",
     "dt-toolbar",
     "dt-tooltips",
     "jupyter-datatables"
    ]
   },
   "outputs": [
    {
     "data": {},
     "metadata": {
      "display": {
       "element": {
        "0": {},
        "length": 1
       }
      },
      "finalized": false,
      "frozen": true,
      "frozen_output": {
       "text/html": "<div id=\"711b5edc67683d3a8575db5ece7fd2a9ada341c6b19f22140c8cfeef70791312_wrapper\" class=\"dataTables_wrapper no-footer\"><div class=\"dt-buttons\">   <button class=\"dt-button buttons-print\" tabindex=\"0\" aria-controls=\"711b5edc67683d3a8575db5ece7fd2a9ada341c6b19f22140c8cfeef70791312\" type=\"button\"><span>Print</span></button> <button class=\"dt-button buttons-csv buttons-html5\" tabindex=\"0\" aria-controls=\"711b5edc67683d3a8575db5ece7fd2a9ada341c6b19f22140c8cfeef70791312\" type=\"button\"><span>CSV</span></button> <button class=\"dt-button buttons-pdf buttons-html5\" tabindex=\"0\" aria-controls=\"711b5edc67683d3a8575db5ece7fd2a9ada341c6b19f22140c8cfeef70791312\" type=\"button\"><span>PDF</span></button> </div><div class=\"dataTables_length\" id=\"711b5edc67683d3a8575db5ece7fd2a9ada341c6b19f22140c8cfeef70791312_length\"><label>Show <select name=\"711b5edc67683d3a8575db5ece7fd2a9ada341c6b19f22140c8cfeef70791312_length\" aria-controls=\"711b5edc67683d3a8575db5ece7fd2a9ada341c6b19f22140c8cfeef70791312\" class=\"\"><option value=\"10\">10</option><option value=\"25\">25</option><option value=\"50\">50</option><option value=\"100\">100</option></select> entries</label></div><div id=\"711b5edc67683d3a8575db5ece7fd2a9ada341c6b19f22140c8cfeef70791312_filter\" class=\"dataTables_filter\"><label>Search:<input type=\"search\" class=\"\" placeholder=\"\" aria-controls=\"711b5edc67683d3a8575db5ece7fd2a9ada341c6b19f22140c8cfeef70791312\"></label></div><div class=\"dataTables_scroll\"><div class=\"dataTables_scrollHead\" style=\"overflow: hidden; position: relative; border: 0px; width: 100%;\"><div class=\"dataTables_scrollHeadInner\" style=\"box-sizing: content-box; width: 1532px; padding-right: 0px;\"><table border=\"1\" class=\"dataframe table cell-border nowrap dataTable no-footer\" role=\"grid\" style=\"margin-left: 0px; width: 1532px;\"><thead>\n    <tr style=\"text-align: right;\" role=\"row\"><th class=\"dt-body-center dt-head-center sorting\" tabindex=\"0\" aria-controls=\"711b5edc67683d3a8575db5ece7fd2a9ada341c6b19f22140c8cfeef70791312\" rowspan=\"1\" colspan=\"1\" style=\"width: 48px;\" aria-label=\": activate to sort column ascending\"></th><th class=\"dt-body-center dt-head-center sorting\" tabindex=\"0\" aria-controls=\"711b5edc67683d3a8575db5ece7fd2a9ada341c6b19f22140c8cfeef70791312\" rowspan=\"1\" colspan=\"1\" style=\"width: 145px;\" aria-label=\"open: activate to sort column ascending\">open</th><th class=\"dt-body-center dt-head-center sorting\" tabindex=\"0\" aria-controls=\"711b5edc67683d3a8575db5ece7fd2a9ada341c6b19f22140c8cfeef70791312\" rowspan=\"1\" colspan=\"1\" style=\"width: 145px;\" aria-label=\"high: activate to sort column ascending\">high</th><th class=\"dt-body-center dt-head-center sorting\" tabindex=\"0\" aria-controls=\"711b5edc67683d3a8575db5ece7fd2a9ada341c6b19f22140c8cfeef70791312\" rowspan=\"1\" colspan=\"1\" style=\"width: 145px;\" aria-label=\"low: activate to sort column ascending\">low</th><th class=\"dt-body-center dt-head-center sorting\" tabindex=\"0\" aria-controls=\"711b5edc67683d3a8575db5ece7fd2a9ada341c6b19f22140c8cfeef70791312\" rowspan=\"1\" colspan=\"1\" style=\"width: 145px;\" aria-label=\"close: activate to sort column ascending\">close</th><th class=\"dt-body-center dt-head-center sorting\" tabindex=\"0\" aria-controls=\"711b5edc67683d3a8575db5ece7fd2a9ada341c6b19f22140c8cfeef70791312\" rowspan=\"1\" colspan=\"1\" style=\"width: 145px;\" aria-label=\"adjusted: activate to sort column ascending\">adjusted</th><th class=\"dt-body-center dt-head-center sorting\" tabindex=\"0\" aria-controls=\"711b5edc67683d3a8575db5ece7fd2a9ada341c6b19f22140c8cfeef70791312\" rowspan=\"1\" colspan=\"1\" style=\"width: 145px;\" aria-label=\"volume: activate to sort column ascending\">volume</th><th class=\"dt-body-center dt-head-center sorting\" tabindex=\"0\" aria-controls=\"711b5edc67683d3a8575db5ece7fd2a9ada341c6b19f22140c8cfeef70791312\" rowspan=\"1\" colspan=\"1\" style=\"width: 145px;\" aria-label=\"dividend: activate to sort column ascending\">dividend</th><th class=\"dt-body-center dt-head-center sorting\" tabindex=\"0\" aria-controls=\"711b5edc67683d3a8575db5ece7fd2a9ada341c6b19f22140c8cfeef70791312\" rowspan=\"1\" colspan=\"1\" style=\"width: 145px;\" aria-label=\"split: activate to sort column ascending\">split</th></tr>\n  <tr role=\"row\" class=\"dtype-preview\">\n      <th class=\" dt-body-center dt-head-center\"></th>\n      <td class=\"column-dtype-preview dt-head-center\" aria-label=\"dtype preview for column 1\"><div class=\"dtype-container\"><select role=\"option\" class=\"dtype\"><option value=\"float64\">float64</option></select></div></td>\n      <td class=\"column-dtype-preview dt-head-center\" aria-label=\"dtype preview for column 2\"><div class=\"dtype-container\"><select role=\"option\" class=\"dtype\"><option value=\"float64\">float64</option></select></div></td>\n      <td class=\"column-dtype-preview dt-head-center\" aria-label=\"dtype preview for column 3\"><div class=\"dtype-container\"><select role=\"option\" class=\"dtype\"><option value=\"float64\">float64</option></select></div></td>\n      <td class=\"column-dtype-preview dt-head-center\" aria-label=\"dtype preview for column 4\"><div class=\"dtype-container\"><select role=\"option\" class=\"dtype\"><option value=\"float64\">float64</option></select></div></td>\n      <td class=\"column-dtype-preview dt-head-center\" aria-label=\"dtype preview for column 5\"><div class=\"dtype-container\"><select role=\"option\" class=\"dtype\"><option value=\"float64\">float64</option></select></div></td>\n      <td class=\"column-dtype-preview dt-head-center\" aria-label=\"dtype preview for column 6\"><div class=\"dtype-container\"><select role=\"option\" class=\"dtype\"><option value=\"int64\">int64</option></select></div></td>\n      <td class=\"column-dtype-preview dt-head-center\" aria-label=\"dtype preview for column 7\"><div class=\"dtype-container\"><select role=\"option\" class=\"dtype\"><option value=\"float64\">float64</option></select></div></td>\n      <td class=\"column-dtype-preview dt-head-center\" aria-label=\"dtype preview for column 8\"><div class=\"dtype-container\"><select role=\"option\" class=\"dtype\"><option value=\"float64\">float64</option></select></div></td>\n    </tr><tr role=\"row\" class=\"column-data-preview\">\n      <th class=\" dt-body-center dt-head-center\"></th>\n      <td class=\"column-data-preview\" role=\"figure\" aria-label=\"data preview for column 1\"><div class=\"dt-chart-container\"><div is=\"dt-container\" class=\"dt-container dt-chart-toolbar\"></div><canvas width=\"167.5px\" height=\"83\" style=\"margin: auto; display: block;\"></canvas></div></td>\n      <td class=\"column-data-preview\" role=\"figure\" aria-label=\"data preview for column 2\"><div class=\"dt-chart-container\"><div is=\"dt-container\" class=\"dt-container dt-chart-toolbar\"></div><canvas width=\"167.5px\" height=\"83\" style=\"margin: auto; display: block;\"></canvas></div></td>\n      <td class=\"column-data-preview\" role=\"figure\" aria-label=\"data preview for column 3\"><div class=\"dt-chart-container\"><div is=\"dt-container\" class=\"dt-container dt-chart-toolbar\"></div><canvas width=\"167.5px\" height=\"83\" style=\"margin: auto; display: block;\"></canvas></div></td>\n      <td class=\"column-data-preview\" role=\"figure\" aria-label=\"data preview for column 4\"><div class=\"dt-chart-container\"><div is=\"dt-container\" class=\"dt-container dt-chart-toolbar\"></div><canvas width=\"167.5px\" height=\"83\" style=\"margin: auto; display: block;\"></canvas></div></td>\n      <td class=\"column-data-preview\" role=\"figure\" aria-label=\"data preview for column 5\"><div class=\"dt-chart-container\"><div is=\"dt-container\" class=\"dt-container dt-chart-toolbar\"></div><canvas width=\"167.5px\" height=\"83\" style=\"margin: auto; display: block;\"></canvas></div></td>\n      <td class=\"column-data-preview\" role=\"figure\" aria-label=\"data preview for column 6\"><div class=\"dt-chart-container\"><div is=\"dt-container\" class=\"dt-container dt-chart-toolbar\"></div><canvas width=\"167.5px\" height=\"83\" style=\"margin: auto; display: block;\"></canvas></div></td>\n      <td class=\"column-data-preview\" role=\"figure\" aria-label=\"data preview for column 7\"><div class=\"dt-chart-container\"><div is=\"dt-container\" class=\"dt-container dt-chart-toolbar\"></div><canvas width=\"167.5px\" height=\"83\" style=\"margin: auto; display: block;\"></canvas></div></td>\n      <td class=\"column-data-preview\" role=\"figure\" aria-label=\"data preview for column 8\"><div class=\"dt-chart-container\"><div is=\"dt-container\" class=\"dt-container dt-chart-toolbar\"></div><canvas width=\"167.5px\" height=\"83\" style=\"margin: auto; display: block;\"></canvas></div></td>\n    </tr></thead></table></div></div><div class=\"dataTables_scrollBody\" style=\"position: relative; overflow: auto; width: 100%;\"><table border=\"1\" class=\"dataframe table cell-border nowrap dataTable no-footer\" id=\"711b5edc67683d3a8575db5ece7fd2a9ada341c6b19f22140c8cfeef70791312\" role=\"grid\" aria-describedby=\"711b5edc67683d3a8575db5ece7fd2a9ada341c6b19f22140c8cfeef70791312_info\" style=\"width: 1532px;\"><thead>\n    <tr style=\"text-align: right; height: 12px;\" role=\"row\"><th class=\"dt-body-center dt-head-center sorting\" aria-controls=\"711b5edc67683d3a8575db5ece7fd2a9ada341c6b19f22140c8cfeef70791312\" rowspan=\"1\" colspan=\"1\" style=\"width: 48px; padding-top: 0px; padding-bottom: 0px; border-top-width: 0px; border-bottom-width: 0px; height: 0px;\" aria-label=\": activate to sort column ascending\"><div class=\"dataTables_sizing\" style=\"height: 0px; overflow: hidden;\"></div></th><th class=\"dt-body-center dt-head-center sorting\" aria-controls=\"711b5edc67683d3a8575db5ece7fd2a9ada341c6b19f22140c8cfeef70791312\" rowspan=\"1\" colspan=\"1\" style=\"width: 145px; padding-top: 0px; padding-bottom: 0px; border-top-width: 0px; border-bottom-width: 0px; height: 0px;\" aria-label=\"open: activate to sort column ascending\"><div class=\"dataTables_sizing\" style=\"height: 0px; overflow: hidden;\">open</div></th><th class=\"dt-body-center dt-head-center sorting\" aria-controls=\"711b5edc67683d3a8575db5ece7fd2a9ada341c6b19f22140c8cfeef70791312\" rowspan=\"1\" colspan=\"1\" style=\"width: 145px; padding-top: 0px; padding-bottom: 0px; border-top-width: 0px; border-bottom-width: 0px; height: 0px;\" aria-label=\"high: activate to sort column ascending\"><div class=\"dataTables_sizing\" style=\"height: 0px; overflow: hidden;\">high</div></th><th class=\"dt-body-center dt-head-center sorting\" aria-controls=\"711b5edc67683d3a8575db5ece7fd2a9ada341c6b19f22140c8cfeef70791312\" rowspan=\"1\" colspan=\"1\" style=\"width: 145px; padding-top: 0px; padding-bottom: 0px; border-top-width: 0px; border-bottom-width: 0px; height: 0px;\" aria-label=\"low: activate to sort column ascending\"><div class=\"dataTables_sizing\" style=\"height: 0px; overflow: hidden;\">low</div></th><th class=\"dt-body-center dt-head-center sorting\" aria-controls=\"711b5edc67683d3a8575db5ece7fd2a9ada341c6b19f22140c8cfeef70791312\" rowspan=\"1\" colspan=\"1\" style=\"width: 145px; padding-top: 0px; padding-bottom: 0px; border-top-width: 0px; border-bottom-width: 0px; height: 0px;\" aria-label=\"close: activate to sort column ascending\"><div class=\"dataTables_sizing\" style=\"height: 0px; overflow: hidden;\">close</div></th><th class=\"dt-body-center dt-head-center sorting\" aria-controls=\"711b5edc67683d3a8575db5ece7fd2a9ada341c6b19f22140c8cfeef70791312\" rowspan=\"1\" colspan=\"1\" style=\"width: 145px; padding-top: 0px; padding-bottom: 0px; border-top-width: 0px; border-bottom-width: 0px; height: 0px;\" aria-label=\"adjusted: activate to sort column ascending\"><div class=\"dataTables_sizing\" style=\"height: 0px; overflow: hidden;\">adjusted</div></th><th class=\"dt-body-center dt-head-center sorting\" aria-controls=\"711b5edc67683d3a8575db5ece7fd2a9ada341c6b19f22140c8cfeef70791312\" rowspan=\"1\" colspan=\"1\" style=\"width: 145px; padding-top: 0px; padding-bottom: 0px; border-top-width: 0px; border-bottom-width: 0px; height: 0px;\" aria-label=\"volume: activate to sort column ascending\"><div class=\"dataTables_sizing\" style=\"height: 0px; overflow: hidden;\">volume</div></th><th class=\"dt-body-center dt-head-center sorting\" aria-controls=\"711b5edc67683d3a8575db5ece7fd2a9ada341c6b19f22140c8cfeef70791312\" rowspan=\"1\" colspan=\"1\" style=\"width: 145px; padding-top: 0px; padding-bottom: 0px; border-top-width: 0px; border-bottom-width: 0px; height: 0px;\" aria-label=\"dividend: activate to sort column ascending\"><div class=\"dataTables_sizing\" style=\"height: 0px; overflow: hidden;\">dividend</div></th><th class=\"dt-body-center dt-head-center sorting\" aria-controls=\"711b5edc67683d3a8575db5ece7fd2a9ada341c6b19f22140c8cfeef70791312\" rowspan=\"1\" colspan=\"1\" style=\"width: 145px; padding-top: 0px; padding-bottom: 0px; border-top-width: 0px; border-bottom-width: 0px; height: 0px;\" aria-label=\"split: activate to sort column ascending\"><div class=\"dataTables_sizing\" style=\"height: 0px; overflow: hidden;\">split</div></th></tr>\n  <tr role=\"row\" class=\"dtype-preview\" style=\"height: 12px;\">\n      <th class=\" dt-body-center dt-head-center\" style=\"padding-top: 0px; padding-bottom: 0px; border-top-width: 0px; border-bottom-width: 0px; height: 0px; width: 48px;\"><div class=\"dataTables_sizing\" style=\"height: 0px; overflow: hidden;\"></div></th>\n      <td class=\"column-dtype-preview dt-head-center\" aria-label=\"dtype preview for column 1\" style=\"padding-top: 0px; padding-bottom: 0px; border-top-width: 0px; border-bottom-width: 0px; height: 0px; width: 145px;\"><div class=\"dataTables_sizing\" style=\"height: 0px; overflow: hidden;\"><div class=\"dtype-container\"><select role=\"option\" class=\"dtype\"><option value=\"float64\">float64</option></select></div></div></td>\n      <td class=\"column-dtype-preview dt-head-center\" aria-label=\"dtype preview for column 2\" style=\"padding-top: 0px; padding-bottom: 0px; border-top-width: 0px; border-bottom-width: 0px; height: 0px; width: 145px;\"><div class=\"dataTables_sizing\" style=\"height: 0px; overflow: hidden;\"><div class=\"dtype-container\"><select role=\"option\" class=\"dtype\"><option value=\"float64\">float64</option></select></div></div></td>\n      <td class=\"column-dtype-preview dt-head-center\" aria-label=\"dtype preview for column 3\" style=\"padding-top: 0px; padding-bottom: 0px; border-top-width: 0px; border-bottom-width: 0px; height: 0px; width: 145px;\"><div class=\"dataTables_sizing\" style=\"height: 0px; overflow: hidden;\"><div class=\"dtype-container\"><select role=\"option\" class=\"dtype\"><option value=\"float64\">float64</option></select></div></div></td>\n      <td class=\"column-dtype-preview dt-head-center\" aria-label=\"dtype preview for column 4\" style=\"padding-top: 0px; padding-bottom: 0px; border-top-width: 0px; border-bottom-width: 0px; height: 0px; width: 145px;\"><div class=\"dataTables_sizing\" style=\"height: 0px; overflow: hidden;\"><div class=\"dtype-container\"><select role=\"option\" class=\"dtype\"><option value=\"float64\">float64</option></select></div></div></td>\n      <td class=\"column-dtype-preview dt-head-center\" aria-label=\"dtype preview for column 5\" style=\"padding-top: 0px; padding-bottom: 0px; border-top-width: 0px; border-bottom-width: 0px; height: 0px; width: 145px;\"><div class=\"dataTables_sizing\" style=\"height: 0px; overflow: hidden;\"><div class=\"dtype-container\"><select role=\"option\" class=\"dtype\"><option value=\"float64\">float64</option></select></div></div></td>\n      <td class=\"column-dtype-preview dt-head-center\" aria-label=\"dtype preview for column 6\" style=\"padding-top: 0px; padding-bottom: 0px; border-top-width: 0px; border-bottom-width: 0px; height: 0px; width: 145px;\"><div class=\"dataTables_sizing\" style=\"height: 0px; overflow: hidden;\"><div class=\"dtype-container\"><select role=\"option\" class=\"dtype\"><option value=\"int64\">int64</option></select></div></div></td>\n      <td class=\"column-dtype-preview dt-head-center\" aria-label=\"dtype preview for column 7\" style=\"padding-top: 0px; padding-bottom: 0px; border-top-width: 0px; border-bottom-width: 0px; height: 0px; width: 145px;\"><div class=\"dataTables_sizing\" style=\"height: 0px; overflow: hidden;\"><div class=\"dtype-container\"><select role=\"option\" class=\"dtype\"><option value=\"float64\">float64</option></select></div></div></td>\n      <td class=\"column-dtype-preview dt-head-center\" aria-label=\"dtype preview for column 8\" style=\"padding-top: 0px; padding-bottom: 0px; border-top-width: 0px; border-bottom-width: 0px; height: 0px; width: 145px;\"><div class=\"dataTables_sizing\" style=\"height: 0px; overflow: hidden;\"><div class=\"dtype-container\"><select role=\"option\" class=\"dtype\"><option value=\"float64\">float64</option></select></div></div></td>\n    </tr><tr role=\"row\" class=\"column-data-preview\" style=\"height: 12px;\">\n      <th class=\" dt-body-center dt-head-center\" style=\"width: 48px; padding-top: 0px; padding-bottom: 0px; border-top-width: 0px; border-bottom-width: 0px; height: 0px;\"><div class=\"dataTables_sizing\" style=\"height: 0px; overflow: hidden;\"></div></th>\n      <td class=\"column-data-preview\" role=\"figure\" aria-label=\"data preview for column 1\" style=\"width: 167px; padding-top: 0px; padding-bottom: 0px; border-top-width: 0px; border-bottom-width: 0px; height: 0px;\"><div class=\"dataTables_sizing\" style=\"height: 0px; overflow: hidden;\"><div class=\"dt-chart-container\"><div is=\"dt-container\" class=\"dt-container dt-chart-toolbar\"></div><canvas width=\"167.5px\" height=\"83\" style=\"margin: auto; display: block;\"></canvas></div></div></td>\n      <td class=\"column-data-preview\" role=\"figure\" aria-label=\"data preview for column 2\" style=\"width: 167px; padding-top: 0px; padding-bottom: 0px; border-top-width: 0px; border-bottom-width: 0px; height: 0px;\"><div class=\"dataTables_sizing\" style=\"height: 0px; overflow: hidden;\"><div class=\"dt-chart-container\"><div is=\"dt-container\" class=\"dt-container dt-chart-toolbar\"></div><canvas width=\"167.5px\" height=\"83\" style=\"margin: auto; display: block;\"></canvas></div></div></td>\n      <td class=\"column-data-preview\" role=\"figure\" aria-label=\"data preview for column 3\" style=\"width: 167px; padding-top: 0px; padding-bottom: 0px; border-top-width: 0px; border-bottom-width: 0px; height: 0px;\"><div class=\"dataTables_sizing\" style=\"height: 0px; overflow: hidden;\"><div class=\"dt-chart-container\"><div is=\"dt-container\" class=\"dt-container dt-chart-toolbar\"></div><canvas width=\"167.5px\" height=\"83\" style=\"margin: auto; display: block;\"></canvas></div></div></td>\n      <td class=\"column-data-preview\" role=\"figure\" aria-label=\"data preview for column 4\" style=\"width: 167px; padding-top: 0px; padding-bottom: 0px; border-top-width: 0px; border-bottom-width: 0px; height: 0px;\"><div class=\"dataTables_sizing\" style=\"height: 0px; overflow: hidden;\"><div class=\"dt-chart-container\"><div is=\"dt-container\" class=\"dt-container dt-chart-toolbar\"></div><canvas width=\"167.5px\" height=\"83\" style=\"margin: auto; display: block;\"></canvas></div></div></td>\n      <td class=\"column-data-preview\" role=\"figure\" aria-label=\"data preview for column 5\" style=\"width: 167px; padding-top: 0px; padding-bottom: 0px; border-top-width: 0px; border-bottom-width: 0px; height: 0px;\"><div class=\"dataTables_sizing\" style=\"height: 0px; overflow: hidden;\"><div class=\"dt-chart-container\"><div is=\"dt-container\" class=\"dt-container dt-chart-toolbar\"></div><canvas width=\"167.5px\" height=\"83\" style=\"margin: auto; display: block;\"></canvas></div></div></td>\n      <td class=\"column-data-preview\" role=\"figure\" aria-label=\"data preview for column 6\" style=\"width: 167px; padding-top: 0px; padding-bottom: 0px; border-top-width: 0px; border-bottom-width: 0px; height: 0px;\"><div class=\"dataTables_sizing\" style=\"height: 0px; overflow: hidden;\"><div class=\"dt-chart-container\"><div is=\"dt-container\" class=\"dt-container dt-chart-toolbar\"></div><canvas width=\"167.5px\" height=\"83\" style=\"margin: auto; display: block;\"></canvas></div></div></td>\n      <td class=\"column-data-preview\" role=\"figure\" aria-label=\"data preview for column 7\" style=\"width: 167px; padding-top: 0px; padding-bottom: 0px; border-top-width: 0px; border-bottom-width: 0px; height: 0px;\"><div class=\"dataTables_sizing\" style=\"height: 0px; overflow: hidden;\"><div class=\"dt-chart-container\"><div is=\"dt-container\" class=\"dt-container dt-chart-toolbar\"></div><canvas width=\"167.5px\" height=\"83\" style=\"margin: auto; display: block;\"></canvas></div></div></td>\n      <td class=\"column-data-preview\" role=\"figure\" aria-label=\"data preview for column 8\" style=\"width: 167px; padding-top: 0px; padding-bottom: 0px; border-top-width: 0px; border-bottom-width: 0px; height: 0px;\"><div class=\"dataTables_sizing\" style=\"height: 0px; overflow: hidden;\"><div class=\"dt-chart-container\"><div is=\"dt-container\" class=\"dt-container dt-chart-toolbar\"></div><canvas width=\"167.5px\" height=\"83\" style=\"margin: auto; display: block;\"></canvas></div></div></td>\n    </tr></thead>\n  \n  <tbody>\n    \n    \n    \n    \n    \n    \n    \n    \n    \n    \n    \n    \n    \n    \n    \n    \n    \n    \n    \n    \n    \n    \n    \n    \n    \n    \n    \n    \n    \n    \n    \n    \n    \n    \n    \n    \n    \n    \n    \n    \n    \n    \n    \n    \n    \n    \n    \n    \n    \n    \n    \n    \n    \n    \n    \n    \n    \n    \n    \n    \n    \n    \n    \n    \n    \n    \n    \n    \n    \n    \n    \n    \n    \n    \n    \n    \n    \n    \n    \n    \n    \n    \n    \n    \n    \n    \n    \n    \n    \n    \n    \n    \n    \n    \n    \n    \n    \n    \n    \n    \n  <tr role=\"row\" class=\"odd\">\n      <th class=\" dt-body-center dt-head-center\">2020-10-08</th>\n      <td class=\" dt-body-center dt-head-center\">9.54</td>\n      <td class=\" dt-body-center dt-head-center\">13.6400</td>\n      <td class=\" dt-body-center dt-head-center\">9.1900</td>\n      <td class=\" dt-body-center dt-head-center\">13.49</td>\n      <td class=\" dt-body-center dt-head-center\">13.49</td>\n      <td class=\" dt-body-center dt-head-center\">76453557</td>\n      <td class=\" dt-body-center dt-head-center\">0.0</td>\n      <td class=\" dt-body-center dt-head-center\">1.0</td>\n    </tr><tr role=\"row\" class=\"even\">\n      <th class=\" dt-body-center dt-head-center\">2020-10-09</th>\n      <td class=\" dt-body-center dt-head-center\">12.83</td>\n      <td class=\" dt-body-center dt-head-center\">14.8000</td>\n      <td class=\" dt-body-center dt-head-center\">11.9000</td>\n      <td class=\" dt-body-center dt-head-center\">12.02</td>\n      <td class=\" dt-body-center dt-head-center\">12.02</td>\n      <td class=\" dt-body-center dt-head-center\">77152780</td>\n      <td class=\" dt-body-center dt-head-center\">0.0</td>\n      <td class=\" dt-body-center dt-head-center\">1.0</td>\n    </tr><tr role=\"row\" class=\"odd\">\n      <th class=\" dt-body-center dt-head-center\">2020-10-12</th>\n      <td class=\" dt-body-center dt-head-center\">11.66</td>\n      <td class=\" dt-body-center dt-head-center\">12.7662</td>\n      <td class=\" dt-body-center dt-head-center\">11.4000</td>\n      <td class=\" dt-body-center dt-head-center\">11.80</td>\n      <td class=\" dt-body-center dt-head-center\">11.80</td>\n      <td class=\" dt-body-center dt-head-center\">23655701</td>\n      <td class=\" dt-body-center dt-head-center\">0.0</td>\n      <td class=\" dt-body-center dt-head-center\">1.0</td>\n    </tr><tr role=\"row\" class=\"even\">\n      <th class=\" dt-body-center dt-head-center\">2020-10-13</th>\n      <td class=\" dt-body-center dt-head-center\">11.73</td>\n      <td class=\" dt-body-center dt-head-center\">12.4200</td>\n      <td class=\" dt-body-center dt-head-center\">11.6500</td>\n      <td class=\" dt-body-center dt-head-center\">11.88</td>\n      <td class=\" dt-body-center dt-head-center\">11.88</td>\n      <td class=\" dt-body-center dt-head-center\">10179708</td>\n      <td class=\" dt-body-center dt-head-center\">0.0</td>\n      <td class=\" dt-body-center dt-head-center\">1.0</td>\n    </tr><tr role=\"row\" class=\"odd\">\n      <th class=\" dt-body-center dt-head-center\">2020-10-14</th>\n      <td class=\" dt-body-center dt-head-center\">12.67</td>\n      <td class=\" dt-body-center dt-head-center\">12.6800</td>\n      <td class=\" dt-body-center dt-head-center\">12.0500</td>\n      <td class=\" dt-body-center dt-head-center\">12.25</td>\n      <td class=\" dt-body-center dt-head-center\">12.25</td>\n      <td class=\" dt-body-center dt-head-center\">10776762</td>\n      <td class=\" dt-body-center dt-head-center\">0.0</td>\n      <td class=\" dt-body-center dt-head-center\">1.0</td>\n    </tr><tr role=\"row\" class=\"even\">\n      <th class=\" dt-body-center dt-head-center\">2020-10-15</th>\n      <td class=\" dt-body-center dt-head-center\">11.99</td>\n      <td class=\" dt-body-center dt-head-center\">15.1000</td>\n      <td class=\" dt-body-center dt-head-center\">11.9900</td>\n      <td class=\" dt-body-center dt-head-center\">13.83</td>\n      <td class=\" dt-body-center dt-head-center\">13.83</td>\n      <td class=\" dt-body-center dt-head-center\">39894822</td>\n      <td class=\" dt-body-center dt-head-center\">0.0</td>\n      <td class=\" dt-body-center dt-head-center\">1.0</td>\n    </tr><tr role=\"row\" class=\"odd\">\n      <th class=\" dt-body-center dt-head-center\">2020-10-16</th>\n      <td class=\" dt-body-center dt-head-center\">13.77</td>\n      <td class=\" dt-body-center dt-head-center\">13.9000</td>\n      <td class=\" dt-body-center dt-head-center\">13.0800</td>\n      <td class=\" dt-body-center dt-head-center\">13.31</td>\n      <td class=\" dt-body-center dt-head-center\">13.31</td>\n      <td class=\" dt-body-center dt-head-center\">11651578</td>\n      <td class=\" dt-body-center dt-head-center\">0.0</td>\n      <td class=\" dt-body-center dt-head-center\">1.0</td>\n    </tr><tr role=\"row\" class=\"even\">\n      <th class=\" dt-body-center dt-head-center\">2020-10-19</th>\n      <td class=\" dt-body-center dt-head-center\">13.44</td>\n      <td class=\" dt-body-center dt-head-center\">14.5000</td>\n      <td class=\" dt-body-center dt-head-center\">13.3800</td>\n      <td class=\" dt-body-center dt-head-center\">13.91</td>\n      <td class=\" dt-body-center dt-head-center\">13.91</td>\n      <td class=\" dt-body-center dt-head-center\">13169073</td>\n      <td class=\" dt-body-center dt-head-center\">0.0</td>\n      <td class=\" dt-body-center dt-head-center\">1.0</td>\n    </tr><tr role=\"row\" class=\"odd\">\n      <th class=\" dt-body-center dt-head-center\">2020-10-20</th>\n      <td class=\" dt-body-center dt-head-center\">14.03</td>\n      <td class=\" dt-body-center dt-head-center\">14.1430</td>\n      <td class=\" dt-body-center dt-head-center\">13.6650</td>\n      <td class=\" dt-body-center dt-head-center\">13.86</td>\n      <td class=\" dt-body-center dt-head-center\">13.86</td>\n      <td class=\" dt-body-center dt-head-center\">6603951</td>\n      <td class=\" dt-body-center dt-head-center\">0.0</td>\n      <td class=\" dt-body-center dt-head-center\">1.0</td>\n    </tr><tr role=\"row\" class=\"even\">\n      <th class=\" dt-body-center dt-head-center\">2020-10-21</th>\n      <td class=\" dt-body-center dt-head-center\">13.90</td>\n      <td class=\" dt-body-center dt-head-center\">14.4200</td>\n      <td class=\" dt-body-center dt-head-center\">13.8000</td>\n      <td class=\" dt-body-center dt-head-center\">14.10</td>\n      <td class=\" dt-body-center dt-head-center\">14.10</td>\n      <td class=\" dt-body-center dt-head-center\">5361928</td>\n      <td class=\" dt-body-center dt-head-center\">0.0</td>\n      <td class=\" dt-body-center dt-head-center\">1.0</td>\n    </tr></tbody>\n</table></div></div><div class=\"dataTables_info\" id=\"711b5edc67683d3a8575db5ece7fd2a9ada341c6b19f22140c8cfeef70791312_info\" role=\"status\" aria-live=\"polite\">Showing 1 to 10 of 100 entries</div><div class=\"dataTables_paginate paging_simple_numbers\" id=\"711b5edc67683d3a8575db5ece7fd2a9ada341c6b19f22140c8cfeef70791312_paginate\"><a class=\"paginate_button previous disabled\" aria-controls=\"711b5edc67683d3a8575db5ece7fd2a9ada341c6b19f22140c8cfeef70791312\" data-dt-idx=\"0\" tabindex=\"0\" id=\"711b5edc67683d3a8575db5ece7fd2a9ada341c6b19f22140c8cfeef70791312_previous\">Previous</a><span><a class=\"paginate_button current\" aria-controls=\"711b5edc67683d3a8575db5ece7fd2a9ada341c6b19f22140c8cfeef70791312\" data-dt-idx=\"1\" tabindex=\"0\">1</a><a class=\"paginate_button \" aria-controls=\"711b5edc67683d3a8575db5ece7fd2a9ada341c6b19f22140c8cfeef70791312\" data-dt-idx=\"2\" tabindex=\"0\">2</a><a class=\"paginate_button \" aria-controls=\"711b5edc67683d3a8575db5ece7fd2a9ada341c6b19f22140c8cfeef70791312\" data-dt-idx=\"3\" tabindex=\"0\">3</a><a class=\"paginate_button \" aria-controls=\"711b5edc67683d3a8575db5ece7fd2a9ada341c6b19f22140c8cfeef70791312\" data-dt-idx=\"4\" tabindex=\"0\">4</a><a class=\"paginate_button \" aria-controls=\"711b5edc67683d3a8575db5ece7fd2a9ada341c6b19f22140c8cfeef70791312\" data-dt-idx=\"5\" tabindex=\"0\">5</a><span class=\"ellipsis\">…</span><a class=\"paginate_button \" aria-controls=\"711b5edc67683d3a8575db5ece7fd2a9ada341c6b19f22140c8cfeef70791312\" data-dt-idx=\"6\" tabindex=\"0\">10</a></span><a class=\"paginate_button next\" aria-controls=\"711b5edc67683d3a8575db5ece7fd2a9ada341c6b19f22140c8cfeef70791312\" data-dt-idx=\"7\" tabindex=\"0\" id=\"711b5edc67683d3a8575db5ece7fd2a9ada341c6b19f22140c8cfeef70791312_next\">Next</a></div></div>",
       "text/plain": "<JupyterRequire.display.FrozenOutput object>"
      }
     },
     "output_type": "display_data"
    },
    {
     "data": {
      "application/javascript": [
       "{ \n",
       "    setTimeout(() => {\n",
       "        const table_id = '711b5edc67683d3a8575db5ece7fd2a9ada341c6b19f22140c8cfeef70791312';\n",
       "        const table    = $(`#${table_id}_wrapper`);\n",
       "        \n",
       "        let scrollHead = table.find('div.dataTables_scrollHead');\n",
       "        let scrollBody = table.find('div.dataTables_scrollBody');\n",
       "        \n",
       "        $(scrollBody).on(\n",
       "            'scroll',\n",
       "            (e) => {\n",
       "                scrollHead.scrollLeft(scrollBody.scrollLeft());\n",
       "            },\n",
       "        );\n",
       "    }, 200);\n",
       "     }"
      ],
      "text/plain": [
       "<JupyterRequire.display.SafeScript object>"
      ]
     },
     "metadata": {
      "finalized": true
     },
     "output_type": "display_data"
    },
    {
     "data": {
      "application/javascript": [
       "\n",
       "    (function() {\n",
       "        const sample_size = Number(100).toLocaleString();\n",
       "        const adjusted = Boolean('False' == 'True')\n",
       "\n",
       "        const total = Number(100).toLocaleString();\n",
       "\n",
       "        element.append($('<p>').text(\n",
       "            `Sample size: ${sample_size} out of ${total} ${ adjusted ? \"(adjusted)\" : \"\" }`));\n",
       "    }());\n",
       "    "
      ],
      "text/html": [
       "<div>\n",
       "<style scoped>\n",
       "    .dataframe tbody tr th:only-of-type {\n",
       "        vertical-align: middle;\n",
       "    }\n",
       "\n",
       "    .dataframe tbody tr th {\n",
       "        vertical-align: top;\n",
       "    }\n",
       "\n",
       "    .dataframe thead th {\n",
       "        text-align: right;\n",
       "    }\n",
       "</style>\n",
       "<table border=\"1\" class=\"dataframe\">\n",
       "  <thead>\n",
       "    <tr style=\"text-align: right;\">\n",
       "      <th></th>\n",
       "      <th>open</th>\n",
       "      <th>high</th>\n",
       "      <th>low</th>\n",
       "      <th>close</th>\n",
       "      <th>adjusted</th>\n",
       "      <th>volume</th>\n",
       "      <th>dividend</th>\n",
       "      <th>split</th>\n",
       "    </tr>\n",
       "  </thead>\n",
       "  <tbody>\n",
       "    <tr>\n",
       "      <th>2021-03-03</th>\n",
       "      <td>122.51</td>\n",
       "      <td>127.7500</td>\n",
       "      <td>113.12</td>\n",
       "      <td>124.18</td>\n",
       "      <td>124.18</td>\n",
       "      <td>17865881</td>\n",
       "      <td>0.0</td>\n",
       "      <td>1.0</td>\n",
       "    </tr>\n",
       "    <tr>\n",
       "      <th>2021-03-02</th>\n",
       "      <td>116.93</td>\n",
       "      <td>133.2000</td>\n",
       "      <td>112.20</td>\n",
       "      <td>118.18</td>\n",
       "      <td>118.18</td>\n",
       "      <td>33783044</td>\n",
       "      <td>0.0</td>\n",
       "      <td>1.0</td>\n",
       "    </tr>\n",
       "    <tr>\n",
       "      <th>2021-03-01</th>\n",
       "      <td>104.54</td>\n",
       "      <td>133.9900</td>\n",
       "      <td>99.97</td>\n",
       "      <td>120.40</td>\n",
       "      <td>120.40</td>\n",
       "      <td>49793965</td>\n",
       "      <td>0.0</td>\n",
       "      <td>1.0</td>\n",
       "    </tr>\n",
       "    <tr>\n",
       "      <th>2021-02-26</th>\n",
       "      <td>117.46</td>\n",
       "      <td>142.9000</td>\n",
       "      <td>86.00</td>\n",
       "      <td>101.74</td>\n",
       "      <td>101.74</td>\n",
       "      <td>90842694</td>\n",
       "      <td>0.0</td>\n",
       "      <td>1.0</td>\n",
       "    </tr>\n",
       "    <tr>\n",
       "      <th>2021-02-25</th>\n",
       "      <td>169.56</td>\n",
       "      <td>184.6800</td>\n",
       "      <td>101.00</td>\n",
       "      <td>108.73</td>\n",
       "      <td>108.73</td>\n",
       "      <td>145443658</td>\n",
       "      <td>0.0</td>\n",
       "      <td>1.0</td>\n",
       "    </tr>\n",
       "    <tr>\n",
       "      <th>...</th>\n",
       "      <td>...</td>\n",
       "      <td>...</td>\n",
       "      <td>...</td>\n",
       "      <td>...</td>\n",
       "      <td>...</td>\n",
       "      <td>...</td>\n",
       "      <td>...</td>\n",
       "      <td>...</td>\n",
       "    </tr>\n",
       "    <tr>\n",
       "      <th>2020-10-14</th>\n",
       "      <td>12.67</td>\n",
       "      <td>12.6800</td>\n",
       "      <td>12.05</td>\n",
       "      <td>12.25</td>\n",
       "      <td>12.25</td>\n",
       "      <td>10776762</td>\n",
       "      <td>0.0</td>\n",
       "      <td>1.0</td>\n",
       "    </tr>\n",
       "    <tr>\n",
       "      <th>2020-10-13</th>\n",
       "      <td>11.73</td>\n",
       "      <td>12.4200</td>\n",
       "      <td>11.65</td>\n",
       "      <td>11.88</td>\n",
       "      <td>11.88</td>\n",
       "      <td>10179708</td>\n",
       "      <td>0.0</td>\n",
       "      <td>1.0</td>\n",
       "    </tr>\n",
       "    <tr>\n",
       "      <th>2020-10-12</th>\n",
       "      <td>11.66</td>\n",
       "      <td>12.7662</td>\n",
       "      <td>11.40</td>\n",
       "      <td>11.80</td>\n",
       "      <td>11.80</td>\n",
       "      <td>23655701</td>\n",
       "      <td>0.0</td>\n",
       "      <td>1.0</td>\n",
       "    </tr>\n",
       "    <tr>\n",
       "      <th>2020-10-09</th>\n",
       "      <td>12.83</td>\n",
       "      <td>14.8000</td>\n",
       "      <td>11.90</td>\n",
       "      <td>12.02</td>\n",
       "      <td>12.02</td>\n",
       "      <td>77152780</td>\n",
       "      <td>0.0</td>\n",
       "      <td>1.0</td>\n",
       "    </tr>\n",
       "    <tr>\n",
       "      <th>2020-10-08</th>\n",
       "      <td>9.54</td>\n",
       "      <td>13.6400</td>\n",
       "      <td>9.19</td>\n",
       "      <td>13.49</td>\n",
       "      <td>13.49</td>\n",
       "      <td>76453557</td>\n",
       "      <td>0.0</td>\n",
       "      <td>1.0</td>\n",
       "    </tr>\n",
       "  </tbody>\n",
       "</table>\n",
       "<p>100 rows × 8 columns</p>\n",
       "</div>"
      ],
      "text/plain": [
       "              open      high     low   close  adjusted     volume  dividend  \\\n",
       "2021-03-03  122.51  127.7500  113.12  124.18    124.18   17865881       0.0   \n",
       "2021-03-02  116.93  133.2000  112.20  118.18    118.18   33783044       0.0   \n",
       "2021-03-01  104.54  133.9900   99.97  120.40    120.40   49793965       0.0   \n",
       "2021-02-26  117.46  142.9000   86.00  101.74    101.74   90842694       0.0   \n",
       "2021-02-25  169.56  184.6800  101.00  108.73    108.73  145443658       0.0   \n",
       "...            ...       ...     ...     ...       ...        ...       ...   \n",
       "2020-10-14   12.67   12.6800   12.05   12.25     12.25   10776762       0.0   \n",
       "2020-10-13   11.73   12.4200   11.65   11.88     11.88   10179708       0.0   \n",
       "2020-10-12   11.66   12.7662   11.40   11.80     11.80   23655701       0.0   \n",
       "2020-10-09   12.83   14.8000   11.90   12.02     12.02   77152780       0.0   \n",
       "2020-10-08    9.54   13.6400    9.19   13.49     13.49   76453557       0.0   \n",
       "\n",
       "            split  \n",
       "2021-03-03    1.0  \n",
       "2021-03-02    1.0  \n",
       "2021-03-01    1.0  \n",
       "2021-02-26    1.0  \n",
       "2021-02-25    1.0  \n",
       "...           ...  \n",
       "2020-10-14    1.0  \n",
       "2020-10-13    1.0  \n",
       "2020-10-12    1.0  \n",
       "2020-10-09    1.0  \n",
       "2020-10-08    1.0  \n",
       "\n",
       "[100 rows x 8 columns]"
      ]
     },
     "execution_count": 20,
     "metadata": {},
     "output_type": "execute_result"
    }
   ],
   "source": [
    "symbols = ['AAPL', 'GOOG', 'TSLA', 'MSFT', 'GME']\n",
    "\n",
    "for symbol in symbols:\n",
    "    base_url = 'https://www.alphavantage.co/query?'\n",
    "    params = {'function': 'TIME_SERIES_DAILY_ADJUSTED',\n",
    "             'symbol': symbol,\n",
    "             'apikey': api_key}\n",
    "\n",
    "    response = requests.get(base_url, params=params)\n",
    "    response_dict = response.json()\n",
    "    _, header = response.json()\n",
    "    df = pd.DataFrame.from_dict(response_dict[header], orient='index')\n",
    "    df_cols = [i.split(' ')[1] for i in df.columns]\n",
    "    df.columns = df_cols\n",
    "    df.set_index(df.index, inplace=True)\n",
    "    df = df.apply(pd.to_numeric)\n",
    "    \n",
    "(df)    "
   ]
  },
  {
   "cell_type": "code",
   "execution_count": 21,
   "metadata": {},
   "outputs": [],
   "source": [
    "base_url = 'https://www.alphavantage.co/query?'"
   ]
  },
  {
   "cell_type": "code",
   "execution_count": 23,
   "metadata": {},
   "outputs": [
    {
     "name": "stdout",
     "output_type": "stream",
     "text": [
      "aapl\n",
      "{'bestMatches': [{'1. symbol': 'AAPL', '2. name': 'Apple Inc', '3. type': 'Equity', '4. region': 'United States', '5. marketOpen': '09:30', '6. marketClose': '16:00', '7. timezone': 'UTC-05', '8. currency': 'USD', '9. matchScore': '1.0000'}, {'1. symbol': 'AAPL34.SAO', '2. name': 'Apple Inc', '3. type': 'Equity', '4. region': 'Brazil/Sao Paolo', '5. marketOpen': '10:00', '6. marketClose': '17:30', '7. timezone': 'UTC-03', '8. currency': 'BRL', '9. matchScore': '0.6154'}]}\n"
     ]
    }
   ],
   "source": [
    "params = {'function': 'SYMBOL_SEARCH',\n",
    "\t\t 'keywords': input(),\n",
    "\t\t 'apikey': api_key}\n",
    "\n",
    "response = requests.get(base_url, params=params)\n",
    "response_dict = response.json()\n",
    "print(response_dict)"
   ]
  },
  {
   "cell_type": "code",
   "execution_count": null,
   "metadata": {},
   "outputs": [],
   "source": []
  }
 ],
 "metadata": {
  "anaconda-cloud": {},
  "kernelspec": {
   "display_name": "Python 3",
   "language": "python",
   "name": "python3"
  },
  "language_info": {
   "codemirror_mode": {
    "name": "ipython",
    "version": 3
   },
   "file_extension": ".py",
   "mimetype": "text/x-python",
   "name": "python",
   "nbconvert_exporter": "python",
   "pygments_lexer": "ipython3",
   "version": "3.7.8"
  },
  "require": {
   "paths": {
    "buttons.colvis": "https://cdn.datatables.net/buttons/1.5.6/js/buttons.colVis.min",
    "buttons.flash": "https://cdn.datatables.net/buttons/1.5.6/js/buttons.flash.min",
    "buttons.html5": "https://cdn.datatables.net/buttons/1.5.6/js/buttons.html5.min",
    "buttons.print": "https://cdn.datatables.net/buttons/1.5.6/js/buttons.print.min",
    "chartjs": "https://cdnjs.cloudflare.com/ajax/libs/Chart.js/2.8.0/Chart",
    "d3": "https://d3js.org/d3.v5.min",
    "d3-array": "https://d3js.org/d3-array.v2.min",
    "datatables.net": "https://cdn.datatables.net/1.10.18/js/jquery.dataTables",
    "datatables.net-buttons": "https://cdn.datatables.net/buttons/1.5.6/js/dataTables.buttons.min",
    "datatables.responsive": "https://cdn.datatables.net/responsive/2.2.2/js/dataTables.responsive.min",
    "datatables.scroller": "https://cdn.datatables.net/scroller/2.0.0/js/dataTables.scroller.min",
    "datatables.select": "https://cdn.datatables.net/select/1.3.0/js/dataTables.select.min",
    "jszip": "https://cdnjs.cloudflare.com/ajax/libs/jszip/2.5.0/jszip.min",
    "moment": "https://cdnjs.cloudflare.com/ajax/libs/moment.js/2.8.0/moment",
    "pdfmake": "https://cdnjs.cloudflare.com/ajax/libs/pdfmake/0.1.36/pdfmake.min",
    "vfsfonts": "https://cdnjs.cloudflare.com/ajax/libs/pdfmake/0.1.36/vfs_fonts"
   },
   "shim": {
    "buttons.colvis": {
     "deps": [
      "jszip",
      "datatables.net-buttons"
     ]
    },
    "buttons.flash": {
     "deps": [
      "jszip",
      "datatables.net-buttons"
     ]
    },
    "buttons.html5": {
     "deps": [
      "jszip",
      "datatables.net-buttons"
     ]
    },
    "buttons.print": {
     "deps": [
      "jszip",
      "datatables.net-buttons"
     ]
    },
    "chartjs": {
     "deps": [
      "moment"
     ]
    },
    "datatables.net": {
     "exports": "$.fn.dataTable"
    },
    "datatables.net-buttons": {
     "deps": [
      "datatables.net"
     ]
    },
    "pdfmake": {
     "deps": [
      "datatables.net"
     ]
    },
    "vfsfonts": {
     "deps": [
      "datatables.net"
     ]
    }
   }
  }
 },
 "nbformat": 4,
 "nbformat_minor": 4
}
